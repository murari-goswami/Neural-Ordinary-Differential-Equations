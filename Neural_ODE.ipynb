{
  "nbformat": 4,
  "nbformat_minor": 0,
  "metadata": {
    "colab": {
      "name": "Neural_ODE.ipynb",
      "version": "0.3.2",
      "provenance": [],
      "collapsed_sections": []
    },
    "kernelspec": {
      "name": "python3",
      "display_name": "Python 3"
    }
  },
  "cells": [
    {
      "metadata": {
        "id": "mngX1UO4YeL6",
        "colab_type": "text"
      },
      "cell_type": "markdown",
      "source": [
        "# Neural Ordinary Differential Equations\n",
        "\n",
        "##Summary\n",
        "\n",
        "\n",
        "NeurIPS (Neural Information Processing System) is the largest AI conference in the world. About 4,854 papers were submitted (NeurIPS 2018) out of which 4 received the \"Best paper\" award. This is one of them. The basic idea is that neural networks are made up of stacked layers of simple computation nodes that work together to approximate a function. If we re-frame a neural network as an \"Ordinary Differential Equation\", we can use existing ODE solvers (like Euler's method) to approximate a function. This means no discrete layers, instead the network is a continous function and the result is that, there would be no need to mention the number of layers beforehand, we can mention the accuracy and the ODEnet would approximmate the whole network to that error margin. It's still early stages, but this could be as big a breakthrough as GANs!\n",
        "\n",
        "\n",
        "\n"
      ]
    },
    {
      "metadata": {
        "id": "VkOKTYj_lJBC",
        "colab_type": "text"
      },
      "cell_type": "markdown",
      "source": [
        "##Why is this important?\n",
        "\n",
        "\n",
        "\n",
        "\n",
        "1.  Faster testing time than recurrent networks, but slower training time., consumes less memory\n",
        "2.  More accurate results for time series predictions  i.e continous-time models\n",
        "Opens up a whole new realm for optimizing neural networks (Diff Equation Solvers)\n",
        "\n"
      ]
    },
    {
      "metadata": {
        "id": "rMZwuzKSuogq",
        "colab_type": "text"
      },
      "cell_type": "markdown",
      "source": [
        "##Differential Equations\n",
        "\n",
        "\n",
        "A differential equation is a mathematical equation that relates some function with its derivatives. In applications, the functions usually represent physical quantities, the derivatives represent their rates of change, and the equation defines a relationship between the two\n",
        "\n",
        "![alt text](data:image/png;base64,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)\n",
        "\n",
        "**\"_Fig Above:- A simple Differential Equation_\"**\n",
        "\n",
        "\n",
        "\n",
        "\n",
        "---\n",
        "\n",
        "\n",
        "\n",
        "\n",
        "![alt text](https://camo.githubusercontent.com/153e0361b86ebf7612d4f0f667736d4cbe005568/687474703a2f2f6879706572706879736963732e7068792d617374722e6773752e6564752f68626173652f4d6174682f696d6d6174682f646572696e742e676966)\n",
        "\n",
        "\n",
        "\n",
        "\n",
        "\n",
        "\n",
        " ######            ![alt text](https://revisionworld.com/sites/revisionworld.com/files/imce/differential.gif)\n",
        "\n",
        "\n",
        "\n"
      ]
    },
    {
      "metadata": {
        "id": "IZ7FZAgR3ehy",
        "colab_type": "text"
      },
      "cell_type": "markdown",
      "source": [
        "##Code For Differential Equation"
      ]
    },
    {
      "metadata": {
        "id": "F9dRKnd_prvt",
        "colab_type": "code",
        "outputId": "a29d8c52-785d-4cec-84cd-6e12a80be590",
        "colab": {
          "base_uri": "https://localhost:8080/",
          "height": 361
        }
      },
      "cell_type": "code",
      "source": [
        "import numpy as np\n",
        "from scipy.integrate import odeint\n",
        "import matplotlib.pyplot as plt\n",
        "\n",
        "# function dy/dx = x + y/5.\n",
        "func = lambda y,x : x + y/5.\n",
        "# Initial condition\n",
        "y0 = -3  # at x=0\n",
        "# values at which to compute the solution (needs to start at x=0)\n",
        "x = np.linspace(0, 4, 101)\n",
        "# solution\n",
        "y = odeint(func, y0, x)\n",
        "# plot the solution, note that y is a column vector\n",
        "plt.plot(x, y[:,0])\n",
        "plt.xlabel('x')\n",
        "plt.ylabel('y')\n",
        "plt.show()"
      ],
      "execution_count": 0,
      "outputs": [
        {
          "output_type": "display_data",
          "data": {
            "image/png": "[encoded data removed]",
            "text/plain": [
              "<Figure size 576x396 with 1 Axes>"
            ]
          },
          "metadata": {
            "tags": []
          }
        }
      ]
    },
    {
      "metadata": {
        "id": "CDLcHaul3WdS",
        "colab_type": "text"
      },
      "cell_type": "markdown",
      "source": [
        "\n",
        "##Ordinary Differential Equation\n",
        "\n",
        "\n",
        "Consider a simplified ODE from physics: we want to model the position x of a car. Assume we can calculate its velocity x′ (the derivative of position) at any position x. We know that the car starts at rest x(0)=0 and that its velocity at time t depends on its position through the formula:\n",
        "\n",
        "$$ x^\\prime(t) = f(x) $$\n",
        "The Euler method solves this problem by following the physical intuition: my position at a time very close to the present depends on my current velocity and position. For example, if you are travelling at a velocity of 5 meters per second, and you travel 1 second, your position changes by 5 meters. If we travel h seconds, we will have travelled 5h meters. As a formula, we said:\n",
        "\n",
        "$$x(t+h) = x(t) + h x^\\prime(t),$$\n",
        "but since we know\n",
        "\n",
        "$$ x^\\prime(t) = f(x) $$\n",
        "\n",
        "we can rewrite this as..equation (1). Remember the equation below\n",
        "\n",
        "$$ x(t+h) = x(t) + h f(x).$$    \n",
        "\n",
        "\n",
        "\n"
      ]
    },
    {
      "metadata": {
        "id": "tYr-pNJelWnl",
        "colab_type": "text"
      },
      "cell_type": "markdown",
      "source": [
        "##ResNet(2015)\n",
        "\n",
        "\n",
        "\n",
        "Imagine a deep CNN architecture. Take that, double the number of layers, add a couple more, and it still probably isn’t as deep as the ResNet architecture that Microsoft Research Asia came up with in late 2015. ResNet is a new 152 layer network architecture that set new records in classification, detection, and localization through one incredible architecture. Aside from the new record in terms of number of layers, ResNet won ILSVRC 2015 with an incredible error rate of 3.6%\n",
        "\n",
        "![alt text](https://adeshpande3.github.io/assets/ResNet.gif)\n",
        "\n",
        "\n",
        "\n",
        "##Residual Block\n",
        "\n",
        "The idea behind a residual block is that you have your input x go through conv-relu-conv series.This will give you some F(x).That result is then added to the original input x. Let’s call that H(x) = F(x) + x.In traditional CNNs, your H(x) would just be equal to F(x) right? So, instead of just computing that transformation (straight from x to F(x)), we’re computing the term that you have to add, F(x), to your input, x. Basically, the mini module shown below is computing a “delta” or a slight change to the original input x to get a slightly altered representation (When we think of traditional CNNs, we go from x to F(x) which is a completely new representation that doesn’t keep any information about the original x). \n",
        "\n",
        "\n",
        "# # ![alt text](https://adeshpande3.github.io/assets/ResNet.png)\n",
        "\n",
        "\n",
        "\n",
        "\n",
        "The residual layer is actually quite simple: add the output of the activation function to the original input to the layer. As a formula, the k+1th layer has the formula:\n",
        "\n",
        "$$ x_{k+1} = x_{k} + F(x_{k})$$\n",
        "where F is the function of the kth layer and its activation. For example, F might represent a convolutional layer with a relu activation. This simple formula is a special case of the formula:\n",
        "\n",
        "(Equation 2)\n",
        "\n",
        "$$ x_{k+1} = x_{k} + h F(x_k),$$\n",
        "\n",
        "\n",
        "\n",
        "Now you can see that equation (1) and equation (2) are the same.\n",
        "\n",
        "you can see it looks just like the formula for ODE !"
      ]
    },
    {
      "metadata": {
        "id": "HG5p1FfLpBT_",
        "colab_type": "text"
      },
      "cell_type": "markdown",
      "source": [
        "This observation has meant three things for designing neural networks:\n",
        "\n",
        "\n",
        "\n",
        "1.   New neural network layers can be created through different numerical approaches to solving ODEs\n",
        "2.   The possibility of arbitrarily deep neural networks\n",
        "\n",
        "3.   Gradient descent can be viewed as applying Euler's method for solving ordinary differential  equation to gradient flow.\n",
        "\n",
        "#![alt text](//camo.githubusercontent.com/a1da3a451fe610f93151dd9065f623778ac5442e/68747470733a2f2f77696b696d656469612e6f72672f6170692f726573745f76312f6d656469612f6d6174682f72656e6465722f7376672f66376566643234653963663334353038646638643430326135623938303132393061636232616663)\n",
        "\n",
        "\n",
        "  \n",
        "\n"
      ]
    },
    {
      "metadata": {
        "id": "IXYKybc5XF50",
        "colab_type": "text"
      },
      "cell_type": "markdown",
      "source": [
        "#ODENet\n",
        "\n",
        "\n",
        "##Neural networks as differential equations\n",
        "\n",
        "Consider a multi-layered neural network. We have an input layer and an output layer, and inbetween them, some number of hidden layers. As an input feeds forward through the network, it is progressively transformed, one layer at a time, from the input to the ultimate output. Each network layer is a step on that journey. If we take a small number of big steps, we end up with a rough approximation to the true transformation function we’d like to learn. If we take a much larger number of steps (deeper networks), with each step being individually smaller, we have a more accurate approximation to the true function. What happens in the limit as we take an infinite number of infinitely small steps?\n",
        "\n",
        "So one way of thinking about those hidden layers is as steps in Euler’s method for solving differential equations\n",
        "\n",
        "#![alt text](https://upload.wikimedia.org/wikipedia/commons/thumb/1/10/Euler_method.svg/412px-Euler_method.svg.png)\n",
        "\n",
        "\n",
        "\n",
        "We want to recover the blue curve, but all we have is an initial point A0 (think inputs to the network) and a differential equation. From the differential equation, we can calculate the tangent line. If we take a small step along the tangent line, we arrive at A1, which will be close to the desired blue line if the step is small enough. Repeat this process to uncover a polygonal curve A0,A1,A2..An\n",
        "\n",
        "\n",
        "\n",
        "##What Does an ODENet Look like?\n",
        "\n",
        "####*An ODE is a function that usually describes the change of some system through time. In this setting, time is a continuous variable. Now imagine a neural network is that system, and time is really something more like the depth of the network. It has a continuous number of layers*\n",
        "\n",
        "\n",
        "*   \n",
        "The team although didn't use Euler's method, they computed the exact ODE solution (within a small error tolerance) using adaptive solvers (which is faster).\n",
        "*   \n",
        "The dynamics change smoothly with depth. You can think of this either as having weights that are\n",
        "a  function of depth, or as having shared weights across layers but adding the depth as an extra input to f.  Anywhere you can put a resnet you can put an ODEnet\n",
        "* Each ODEBlock can be used to replace a whole stack of ResBlocks.\n",
        "* In their MNIST example, each ODEBlock replaces 6 ResBlocks.\n",
        "\n",
        "###Traditional Deep Nets\n",
        "\n",
        "h1 = f1(x)\n",
        "\n",
        "h2 = f2(h1)\n",
        "\n",
        "h3 = f3(h2)\n",
        "\n",
        "h4 = f3(h3)\n",
        "\n",
        "y  = f5(h4)\n",
        "\n",
        "###ResNets\n",
        "\n",
        "h1 = f1(x)  + x\n",
        "\n",
        "h2 = f2(h1) + h1\n",
        "\n",
        "h3 = f3(h2) + h2\n",
        "\n",
        "h4 = f4(h3) + h3\n",
        "\n",
        "y  = f5(h4) + h4\n",
        "\n",
        "\n",
        "Where f1, f2, etc are neural net layers.\n",
        "The idea is that it's easier to model a small change to an almost-correct answer than to output the whole improved answer at once. -The above looks like a primitive ODE solver (Euler's method) that solves the trajectory of a system by just taking small steps in the direction of the dynamics of the and adding them up. -They connection allows for better training methods.\n",
        "What if we define a deep net as a continuously evolving system?\n",
        "Instead of updating the hidden units layer by layer, we define their derivative with respect to depth instead.\n",
        "\n",
        "Many neural networks have a composition that looks exactly like the steps of Euler’s method. We start with an initial state z0, and apply successive transformations over time (layers):\n",
        "\n"
      ]
    },
    {
      "metadata": {
        "id": "C4wmsjh6uIQp",
        "colab_type": "text"
      },
      "cell_type": "markdown",
      "source": [
        "$$ z1 = z0 +  f(z0,\\theta0).$$   \n",
        "$$ z2 = z1 +  f(z1,\\theta1).$$   \n",
        "$$ z3 = z2 +  f(z2,\\theta2).$$...   and so on\n",
        "\n",
        "\n",
        "In the limit, we parameterize the continuous dynamics of hidden units using an ordinary differential equation (ODE) specified by a neural network:\n",
        "\n",
        "![alt text](https://s0.wp.com/latex.php?latex=%5Cdisplaystyle+%5Cfrac%7Bd%5Cmathbf%7Bz%7D%28t%29%7D%7Bdt%7D+%3D+f%28%5Cmathbf%7Bz%7D%28t%29%2C+t%2C+%5Ctheta%29&bg=ffffff&fg=333333&s=0&zoom=1)\n",
        "\n",
        "\n",
        "The equivalent of having T layers in the network, is finding the solution to this ODE at time T.\n",
        "\n",
        "\n",
        "![alt text](https://adriancolyer.files.wordpress.com/2019/01/NODEs-Fig-1.jpeg?w=480&zoom)\n",
        "\n",
        "\n",
        "\n",
        "Euler’s method is perhaps the simplest method for solving ODEs. There since been more than 120 years of development of efficient and accurate ODE solvers. Modern ODE solvers provide guarantees about the growth of approximation error, monitor the level of error, and adapt their evaluation strategy on the fly to achieve the requested level of accuracy. This allows the cost of evaluating a model to scale with problem complexity.\n",
        "\n",
        "\n",
        "\n",
        "##How to train a continuous-depth network ?\n",
        "\n",
        "Question is how do you efficiently train a network defined as a differential equation? The answer lies in the adjoint method (which dates back to 1962). Think of the adjoint as the instantaneous analog of the chain rule.\n",
        "\n",
        "This approach computes gradients by solving a second, augmented ODE backwards in time, and is applicable to all ODE solvers. This approach scales linearly with problem size, has low memory cost, and explicitly controls numerical error.\n",
        "\n",
        "\n",
        "The adjoint captures how the loss function L changes with respect to the hidden state\n",
        "\n",
        "![alt text](https://s0.wp.com/latex.php?latex=-+%5Cpartial+L+%2F+%5Cpartial+%5Cmathbf%7Bz%7D%28t%29&bg=ffffff&fg=333333&s=0&zoom=1)\n",
        "\n",
        "Starting from the Output network, we can recompute $z({t})$ backwards in time together with the adjoint.\n",
        "\n",
        "\n",
        "![alt text](https://adriancolyer.files.wordpress.com/2019/01/NODEs-Fig-2.jpeg?w=480&)\n",
        "\n",
        "\n"
      ]
    },
    {
      "metadata": {
        "id": "kPDpU9sWVf5n",
        "colab_type": "text"
      },
      "cell_type": "markdown",
      "source": [
        "A third integral then tells us how the loss changes with the parameters\n",
        "###$$ \\theta( dL/d\\theta).$$\n",
        "\n",
        "All three of these integrals can be computed in a single call to an ODE solver, which concatenates the original state, the adjoint, and the other partial derivatives into a single vector. Algorithm 1 shows how to construct the necessary dynamics, and call an ODE solver to compute all gradients at once. That is all I can possibly manage to explain at this point.\n",
        "\n",
        "\n",
        "###![alt text](https://adriancolyer.files.wordpress.com/2019/01/NODEs-Alg-1.jpeg?w=556&zoom=3)\n",
        "\n",
        "\n",
        "\n",
        "\n",
        "##Applied Neural ODEs\n",
        "\n",
        "###Residual Networks\n",
        "\n",
        "This section tackles the good old MNIST problem, comparing an ODE-net to a ResNet with 6 residual blocks. The ODE-net replaces the residual blocks with an ODE-Solve module.\n",
        "\n",
        "Concentrating on the **2nd and 4th lines** in the table below, ODE-Nets are able to achieve roughly the same performance as a ResNet, but using only about 1/3 of the parameters. Also note that the ODE-Net solution using constant memory, whereas ResNets use memory proportional to the number of layers.\n",
        "\n",
        "\n",
        "##![alt text](https://adriancolyer.files.wordpress.com/2019/01/NODEs-Table-1.jpeg?w=540&zoom=1)"
      ]
    },
    {
      "metadata": {
        "id": "M7b6gqRLYN3X",
        "colab_type": "text"
      },
      "cell_type": "markdown",
      "source": [
        "##Time-series\n",
        "This is the application which  caught my attention.\n",
        "\n",
        "Applying neural networks to irregularly-sampled data such as medical records, network traffic, or neural spiking data is difficult. Typically, observations are put into bins of fixed duration, and the latent dynamics are discretized in the same way. This leads to difficulties with missing data and ill-defined latent variables… We present a continuous-time, generative approach to modeling time series. Our model represents each time series by a latent trajectory. Each trajectory is determined from a local initial state $\\mathbf{z}_{t_0}$, and a global set of latent dynamics shared across all time series.\n",
        "\n",
        "The model can be trained as a variational autoencoder, and it looks like this:\n",
        "\n",
        "![alt text](https://adriancolyer.files.wordpress.com/2019/01/NODEs-Fig-6.jpeg?w=566&zoom=2)\n",
        "\n",
        "\n",
        "\n",
        "The evaluation here is based on a dataset of 1000 2-dimensional spirals, each starting at a different point. Half of the spirals are clockwise, and half counter-clockwise. Points are sampled from these trajectories at irregular timestamps. The figure below shows a latent neural ODE is better able to recover the spirals than a traditional RNN:\n",
        "\n",
        "![alt text](https://adriancolyer.files.wordpress.com/2019/01/NODEs-Fig-8.jpeg?w=350&zoom=1)\n",
        "\n",
        "\n",
        "Find the original repo [here](https://https://github.com/rtqichen/torchdiffeq)\n",
        "\n",
        "\n",
        "\n",
        "\n",
        "###My Result:-\n",
        "\n",
        "C:\\torchdiffeq\\examples>python ode_demo.py --viz\n",
        "\n",
        "Iter 0020 | Total Loss 0.637604\n",
        "\n",
        "No handles with labels found to put in legend.\n",
        "Iter 0040 | Total Loss 0.693041\n",
        "\n",
        "No handles with labels found to put in legend.\n",
        "Iter 0060 | Total Loss 0.721506\n",
        "\n",
        "No handles with labels found to put in legend.\n",
        "Iter 0080 | Total Loss 0.332976\n",
        "\n",
        "No handles with labels found to put in legend.\n",
        "Iter 0100 | Total Loss 0.656128\n",
        "\n",
        "No handles with labels found to put in legend.\n",
        "Iter 0120 | Total Loss 0.641541\n",
        "\n",
        "No handles with labels found to put in legend.\n",
        "Iter 0140 | Total Loss 0.799464\n",
        "\n",
        "No handles with labels found to put in legend.\n",
        "Iter 0160 | Total Loss 0.263458\n",
        "\n",
        "No handles with labels found to put in legend.\n",
        "Iter 0180 | Total Loss 0.274314\n",
        "\n",
        "![alt text](https://github.com/rtqichen/torchdiffeq/raw/master/assets/ode_demo.gif)"
      ]
    },
    {
      "metadata": {
        "id": "8sp6tdfdsgqc",
        "colab_type": "text"
      },
      "cell_type": "markdown",
      "source": [
        "##Closing Summary of Neural ODE\n",
        "A neural network is a popular type of machine learning model\n",
        "Neural Networks are built with linear algebra and optimized using Calculus\n",
        "\n",
        "* Neural networks consist of a series of \"layers\", which are just matrix operations\n",
        "\n",
        "* Each layer introduces a little bit of error that compounds through the network\n",
        "* The way to reduce that error is to add more and more layers\n",
        "* The problem is that we see a drop off in performance after a certain # of layers\n",
        "* A solution to this was proposed by Microsoft for the 2015 ImageNet competiton (residual networks)\n",
        "* Residual Networks connect the output of previous layers to the output of new layers\n",
        "* Prof. Duvenaud's team at University of Toronto noticed that that ResNets are similar to a primative * * \"Ordinary Differential Equation\" Solver called \"Euler's Method\"\n",
        "* Ordinary Differential Equations involve one or more ordinary derivatives of unkown functions. 1 independent variable.\n",
        "* Partial Differential Equations involve one or more partial derivatives of unknown functions. 2 or more independnet variables.\n",
        "* Eulers method is a numerical method to sovle 1st order differential equations.\n",
        "More efficient than Eulers method is the adjoint method. And this acts as our optimization strategy\n",
        "The result? No need to specificy number of layers beforehand, now just specifiy accuracy. it will train itself.\n",
        "* No more discrete layers, instead a continous computational block\n",
        "\n",
        "\n",
        "**Applications** -Irregular time series data (medical history recorded at random times)."
      ]
    }
  ]
}